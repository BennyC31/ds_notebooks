{
 "cells": [
  {
   "cell_type": "markdown",
   "metadata": {},
   "source": [
    "<h1>Game Analysis Notebook</h1>\n",
    "<p>Analyze upcoming and game results data to be used in Web App</p>"
   ]
  },
  {
   "cell_type": "markdown",
   "metadata": {},
   "source": [
    "<h2>Notes</h2>\n",
    "<ul>\n",
    "    <li></li>\n",
    "</ul>"
   ]
  },
  {
   "cell_type": "markdown",
   "metadata": {},
   "source": [
    "<h2>TODO</h2>\n",
    "<ul>\n",
    "    <li><s>None</s></li>\n",
    "</ul>"
   ]
  },
  {
   "cell_type": "markdown",
   "metadata": {},
   "source": [
    "<h2>Import Statements</h2>"
   ]
  },
  {
   "cell_type": "code",
   "execution_count": 188,
   "metadata": {},
   "outputs": [],
   "source": [
    "import warnings\n",
    "warnings.filterwarnings('ignore')\n",
    "from datetime import datetime as dt\n",
    "import pandas as pd\n",
    "import numpy as np\n",
    "import plotly.express as px\n",
    "import plotly.graph_objects as go\n",
    "import my_util as util\n"
   ]
  },
  {
   "cell_type": "markdown",
   "metadata": {},
   "source": [
    "<h2>Environment Settings</h2>"
   ]
  },
  {
   "cell_type": "markdown",
   "metadata": {},
   "source": [
    "<h2>Notebook Utility Methods</h2>\n",
    "<p>Notebook methods commonly used throughout the notebook</p>"
   ]
  },
  {
   "cell_type": "markdown",
   "metadata": {},
   "source": [
    "<h2>Get Data from Views</h2>"
   ]
  },
  {
   "cell_type": "markdown",
   "metadata": {},
   "source": [
    "<h4>game_results</h4>\n",
    "<p>Gets the game result tables and creates csv format file</p>\n",
    "<p>Params:</p>\n",
    "<ul>\n",
    "    <li>log_file: file used for logging the notebook actions</li>\n",
    "    <li>engine: database engine</li>\n",
    "    <li>db_schema: database schema</li>\n",
    "    <li>msg: documentation for the sql statement run</li>\n",
    "</ul>"
   ]
  },
  {
   "cell_type": "code",
   "execution_count": 189,
   "metadata": {},
   "outputs": [],
   "source": [
    "def game_results(engine,db_schema,view_name,msg):\n",
    "# def game_results(log_file,engine,db_schema,view_name,msg):\n",
    "    sql_stmt = f'select * from {db_schema}.{view_name} order by leagid,gameid'\n",
    "    return util.get_data(log_file=None,sql_stmt=sql_stmt,engine=engine,msg=f'{view_name}: {msg}')\n"
   ]
  },
  {
   "cell_type": "markdown",
   "metadata": {},
   "source": [
    "<h2>Analysis and Charts</h2>"
   ]
  },
  {
   "cell_type": "markdown",
   "metadata": {},
   "source": [
    "<h3>ml_covers_bar_all - Bar:Traces</h3>"
   ]
  },
  {
   "cell_type": "code",
   "execution_count": 190,
   "metadata": {},
   "outputs": [],
   "source": [
    "def ml_covers_bar_all(nfl_dog_df,nhl_dog_df,ncaaf_dog_df,nfl_fav_df,nhl_fav_df,ncaaf_fav_df):\n",
    "    fig_dog = px.bar()\n",
    "    fig_fav = px.bar()\n",
    "\n",
    "    # Create Bar Chart\n",
    "    # min_sprd = dog_df['spread'].min()\n",
    "    # max_sprd = dog_df['spread'].max()\n",
    "    # fig = px.bar(dog_df,x='spread',y='dogcover',title='2024 Dog Spread Covers', color_continuous_scale=px.colors.sequential.Inferno)\n",
    "    fig_dog.add_trace(go.Bar(x=nfl_dog_df['spread'], y=nfl_dog_df['iscover'], name='NFL Dogs',marker_color='blue', width=0.2, offset=0))\n",
    "    fig_dog.add_trace(go.Bar(x=nhl_dog_df['spread'], y=nhl_dog_df['iscover'], name='NHL Dogs',marker_color='orange', width=0.2, offset=0))\n",
    "    fig_dog.add_trace(go.Bar(x=ncaaf_dog_df['spread'], y=ncaaf_dog_df['iscover'], name='NCAAF Dogs',marker_color='green', width=0.2, offset=0.2))\n",
    "\n",
    "    fig_fav.add_trace(go.Bar(x=nfl_fav_df['spread'], y=nfl_fav_df['iscover'], name='NFL Favorites',marker_color='blue', width=0.2, offset=0.0))\n",
    "    fig_fav.add_trace(go.Bar(x=nhl_fav_df['spread'], y=nhl_fav_df['iscover'], name='NHL Favorites',marker_color='orange', width=0.2, offset=0.0))\n",
    "    fig_fav.add_trace(go.Bar(x=ncaaf_fav_df['spread'], y=ncaaf_fav_df['iscover'], name='NCAAF Favorites',marker_color='green', width=0.2, offset=0.2))\n",
    "    # fig.update_xaxes(range=[min_sprd,max_sprd],zeroline=True, zerolinewidth=2, zerolinecolor='red')\n",
    "    # fig_dog.update_yaxes(dtick=dtick)\n",
    "    fig_dog.update_layout(\n",
    "        # title=f'{msg}: Comparison of Dog and Favorite Covers by Spread',\n",
    "        title=f'Dog Covers by Spread',\n",
    "        yaxis_title='Number of Covers',\n",
    "        xaxis_title='Spread',\n",
    "        barmode='group',\n",
    "        bargap=0.1,\n",
    "        bargroupgap=0.2,\n",
    "        autosize=False,\n",
    "        width=600,\n",
    "        height=600,\n",
    "        margin=dict(l=50, r=50, b=100, t=100, pad=4),\n",
    "        xaxis=dict(\n",
    "            tickmode=\"linear\",\n",
    "            dtick=3\n",
    "        )\n",
    "    )\n",
    "\n",
    "    fig_fav.update_layout(\n",
    "        # title=f'{msg}: Comparison of Dog and Favorite Covers by Spread',\n",
    "        title=f'Favorite Covers by Spread',\n",
    "        yaxis_title='Number of Covers',\n",
    "        xaxis_title='Spread',\n",
    "        barmode='group',\n",
    "        bargap=0.1,\n",
    "        bargroupgap=0.2,\n",
    "        autosize=False,\n",
    "        width=800,\n",
    "        height=600,\n",
    "        margin=dict(l=50, r=50, b=100, t=100, pad=4),\n",
    "        xaxis=dict(\n",
    "            tickmode=\"linear\",\n",
    "            dtick=1\n",
    "        )\n",
    "    )\n",
    "    fig_dog.show()\n",
    "    fig_fav.show()"
   ]
  },
  {
   "cell_type": "markdown",
   "metadata": {},
   "source": [
    "<h3>ml_results - Bar:Traces</h3>"
   ]
  },
  {
   "cell_type": "code",
   "execution_count": 191,
   "metadata": {},
   "outputs": [],
   "source": [
    "def ml_bar_traces(nfl_dog_df,nhl_dog_df,ncaaf_dog_df,nfl_fav_df,nhl_fav_df,ncaaf_fav_df):\n",
    "    # Create traces\n",
    "    fig_dog = go.Figure()\n",
    "    fig_dog.add_trace(go.Bar(x=nfl_dog_df['dogml'],y=nfl_dog_df['isdogmlcover'],name='NFL Dogs'))\n",
    "    fig_dog.add_trace(go.Bar(x=nhl_dog_df['dogml'],y=nhl_dog_df['isdogmlcover'],name='NHL Dogs'))\n",
    "    fig_dog.add_trace(go.Bar(x=ncaaf_dog_df['dogml'],y=ncaaf_dog_df['isdogmlcover'],name='NCAAF Dogs'))\n",
    "    fig_fav = go.Figure()\n",
    "    fig_fav.add_trace(go.Bar(x=nfl_fav_df['favml'],y=nfl_fav_df['isfavmlcover'],name='NFL Favorites'))\n",
    "    fig_fav.add_trace(go.Bar(x=nhl_fav_df['favml'],y=nhl_fav_df['isfavmlcover'],name='NHL Favorites'))\n",
    "    fig_fav.add_trace(go.Bar(x=ncaaf_fav_df['favml'],y=ncaaf_fav_df['isfavmlcover'],name='NCAAF Favorites'))\n",
    "\n",
    "    fig_dog.update_layout(\n",
    "        title_text=\"Dogs\",\n",
    "        barmode=\"stack\",\n",
    "        uniformtext=dict(mode=\"hide\", minsize=10),\n",
    "    )\n",
    "\n",
    "    fig_fav.update_layout(\n",
    "        title_text=\"Favorites\",\n",
    "        barmode=\"stack\",\n",
    "        uniformtext=dict(mode=\"hide\", minsize=10),\n",
    "    )\n",
    "\n",
    "    fig_dog.show()\n",
    "    fig_fav.show()"
   ]
  },
  {
   "cell_type": "markdown",
   "metadata": {},
   "source": [
    "<h3>ml_results - Line:Traces</h3>"
   ]
  },
  {
   "cell_type": "code",
   "execution_count": 192,
   "metadata": {},
   "outputs": [],
   "source": [
    "def ml_line_traces(nfl_dog_df,nhl_dog_df,ncaaf_dog_df,nfl_fav_df,nhl_fav_df,ncaaf_fav_df):\n",
    "    # Create traces\n",
    "    fig_dog = go.Figure()\n",
    "    fig_dog.add_trace(go.Scatter(x=nfl_dog_df['dogml'],y=nfl_dog_df['isdogmlcover'],name='NFL Dogs',mode='lines'))\n",
    "    fig_dog.add_trace(go.Scatter(x=nhl_dog_df['dogml'],y=nhl_dog_df['isdogmlcover'],name='NHL Dogs',mode='lines'))\n",
    "    fig_dog.add_trace(go.Scatter(x=ncaaf_dog_df['dogml'],y=ncaaf_dog_df['isdogmlcover'],name='NCAAF Dogs',mode='lines'))\n",
    "    fig_fav = go.Figure()\n",
    "    fig_fav.add_trace(go.Scatter(x=nfl_fav_df['favml'],y=nfl_fav_df['isfavmlcover'],name='NFL Favorites',mode='lines'))\n",
    "    fig_fav.add_trace(go.Scatter(x=nhl_fav_df['favml'],y=nhl_fav_df['isfavmlcover'],name='NHL Favorites',mode='lines'))\n",
    "    fig_fav.add_trace(go.Scatter(x=ncaaf_fav_df['favml'],y=ncaaf_fav_df['isfavmlcover'],name='NCAAF Favorites',mode='lines'))\n",
    "\n",
    "    fig_dog.show()\n",
    "    fig_fav.show()"
   ]
  },
  {
   "cell_type": "markdown",
   "metadata": {},
   "source": [
    "<h3>ml_results - Line</h3>"
   ]
  },
  {
   "cell_type": "code",
   "execution_count": 193,
   "metadata": {},
   "outputs": [],
   "source": [
    "def ml_line(dog_df,fav_df):\n",
    "    # df = dog_df\n",
    "    fig1 = px.line(dog_df, x=\"dogml\", y=\"isdogmlcover\", title='Dog Covers')\n",
    "    fig2 = px.line(fav_df, x=\"favml\", y=\"isfavmlcover\", title='Fav Covers')\n",
    "    \n",
    "    fig = go.Figure(data=fig1.data + fig2.data)\n",
    "    fig.data[0].line.color = 'blue'\n",
    "    fig.data[1].line.color = 'orange'\n",
    "    \n",
    "    fig.show()"
   ]
  },
  {
   "cell_type": "markdown",
   "metadata": {},
   "source": [
    "<h3>ml_results - Heatmap - Density</h3>"
   ]
  },
  {
   "cell_type": "code",
   "execution_count": 194,
   "metadata": {},
   "outputs": [],
   "source": [
    "def ml_heatmap_density(dog_df):\n",
    "    # df = px.data.tips()\n",
    "    df = dog_df\n",
    "    start_bin = df['isdogmlcover'].min()\n",
    "    end_bin = df['isdogmlcover'].max()\n",
    "    # print(df)\n",
    "    fig = px.density_heatmap(df, x=\"isdogmlcover\",y='dogml',color_continuous_scale=\"Inferno\",  text_auto=True)\n",
    "    # fig.update_traces(xbins=dict(start=start_bin,end=(end_bin * 1.5),size=10))\n",
    "    fig.show()"
   ]
  },
  {
   "cell_type": "markdown",
   "metadata": {},
   "source": [
    "<h3>ml_results - Histogram</h3>"
   ]
  },
  {
   "cell_type": "code",
   "execution_count": 195,
   "metadata": {},
   "outputs": [],
   "source": [
    "def ml_results(dog_df,dog_cov_fav_df,fav_df,fav_cov_dog_df):\n",
    "    start_bin = fav_df['favml'].min()\n",
    "    end_bin = dog_df['dogml'].max()\n",
    "    fig1 = px.histogram(dog_df, x=\"dogml\",y='isdogmlcover',labels={'dogml':'Dog','isdogmlcover':'covers'},text_auto=True)\n",
    "    fig2 = px.histogram(fav_df, x=\"favml\",y='isfavmlcover',labels={'favml':'Fav','isfavmlcover':'covers'},text_auto=True)\n",
    "\n",
    "    fig3 = px.histogram(dog_cov_fav_df, x=\"favml\",y='isdogmlcover',labels={'favml':'Dog Cover','isdogmlcover':'outright'},text_auto=True)\n",
    "    fig4 = px.histogram(fav_cov_dog_df, x=\"dogml\",y='isfavmlcover',labels={'dogml':'Fav Cover','isfavmlcover':'chalk'},text_auto=True)\n",
    "\n",
    "    fig = go.Figure(data=fig1.data + fig2.data + fig3.data + fig4.data)\n",
    "\n",
    "    fig.update_layout(\n",
    "        title=f'Comparison of Dog and Favorite Covers by Money Line',\n",
    "        yaxis_title='Number of Covers',\n",
    "        xaxis_title='Money Line',\n",
    "        autosize=False,\n",
    "        width=900,\n",
    "        height=750,\n",
    "        margin=dict(l=50, r=50, b=100, t=100, pad=4),\n",
    "        yaxis_zeroline=True, xaxis_zeroline=True,\n",
    "        bargap=0.3,\n",
    "        barmode='overlay',\n",
    "        showlegend=True)\n",
    "    \n",
    "    # Set different colors for each trace\n",
    "    \n",
    "    fig.data[0].marker.color = 'blue'\n",
    "    # fig.data[0].name = 'Dogs'\n",
    "    fig.data[1].marker.color = 'orange'\n",
    "    fig.data[2].marker.color = 'green'\n",
    "    fig.data[3].marker.color = 'lightyellow'\n",
    "    # fig.data[1].name = 'Favorites'\n",
    "    fig.update_traces(opacity=0.90,xbins=dict(start=start_bin,end=(end_bin * 1.5),size=20))\n",
    "    \n",
    "    fig.show()\n"
   ]
  },
  {
   "cell_type": "markdown",
   "metadata": {},
   "source": [
    "<h3>ml_covers - Scatter/Bubble</h3>"
   ]
  },
  {
   "cell_type": "code",
   "execution_count": 196,
   "metadata": {},
   "outputs": [],
   "source": [
    "def ml_covers(game_team_res_df,leag_str):\n",
    "    leagid = 1\n",
    "    msg = 'Professional Football'\n",
    "    dtick = 100\n",
    "    if leag_str == '2':\n",
    "        leagid = 13\n",
    "        msg = 'Professional Hockey'\n",
    "        dtick = 50\n",
    "    elif leag_str == '3':\n",
    "        leagid = 8\n",
    "        msg = 'College Football'\n",
    "        dtick = 750\n",
    "\n",
    "    test_df = game_team_res_df.copy()\n",
    "    df = game_team_res_df.query(f\"leagid == {leagid} and leagyear == 2024 and (dogml != favml)\")\n",
    "\n",
    "    # Test Scenarios:\n",
    "    nfl_df_dog = test_df.copy()\n",
    "    nhl_df_dog = test_df.copy()\n",
    "    ncaaf_df_dog = test_df.copy()\n",
    "    nfl_df_fav = test_df.copy()\n",
    "    nhl_df_fav = test_df.copy()\n",
    "    ncaaf_df_fav = test_df.copy()\n",
    "\n",
    "    nfl_dog_df = nfl_df_dog.query(f\"(leagid == 1 and leagyear == 2024) and (dogml != favml) and isdogmlcover == 1\")\n",
    "    nfl_dog_df = nfl_dog_df.groupby(['dogml'])['isdogmlcover'].sum()\n",
    "    nfl_dog_df = nfl_dog_df.to_frame().reset_index()\n",
    "\n",
    "    nhl_dog_df = nhl_df_dog.query(f\"(leagid == 13 and leagyear == 2024) and (dogml != favml) and isdogmlcover == 1\")\n",
    "    nhl_dog_df = nhl_dog_df.groupby(['dogml'])['isdogmlcover'].sum()\n",
    "    nhl_dog_df = nhl_dog_df.to_frame().reset_index()\n",
    "\n",
    "    ncaaf_dog_df = ncaaf_df_dog.query(f\"(leagid == 8 and leagyear == 2024) and (dogml != favml) and isdogmlcover == 1\")\n",
    "    ncaaf_dog_df = ncaaf_dog_df.groupby(['dogml'])['isdogmlcover'].sum()\n",
    "    ncaaf_dog_df = ncaaf_dog_df.to_frame().reset_index()\n",
    "\n",
    "    nfl_fav_df = nfl_df_fav.query(f\"(leagid == 1 and leagyear == 2024) and (dogml != favml) and isfavmlcover == 1\")\n",
    "    nfl_fav_df = nfl_fav_df.groupby(['favml'])['isfavmlcover'].sum()\n",
    "    nfl_fav_df = nfl_fav_df.to_frame().reset_index()\n",
    "\n",
    "    nhl_fav_df = nhl_df_fav.query(f\"(leagid == 13 and leagyear == 2024) and (dogml != favml) and isfavmlcover == 1\")\n",
    "    nhl_fav_df = nhl_fav_df.groupby(['favml'])['isfavmlcover'].sum()\n",
    "    nhl_fav_df = nhl_fav_df.to_frame().reset_index()\n",
    "\n",
    "    ncaaf_fav_df = ncaaf_df_fav.query(f\"(leagid == 13 and leagyear == 2024) and (dogml != favml) and isfavmlcover == 1\")\n",
    "    ncaaf_fav_df = ncaaf_fav_df.groupby(['favml'])['isfavmlcover'].sum()\n",
    "    ncaaf_fav_df = ncaaf_fav_df.to_frame().reset_index()\n",
    "    # End Test Scenarios\n",
    "\n",
    "    # Dogs\n",
    "    dog_df = df.query('isdogmlcover == 1')\n",
    "    dog_df = dog_df.groupby(['dogml'])['isdogmlcover'].sum()\n",
    "    dog_df = dog_df.to_frame().reset_index()\n",
    "\n",
    "    dog_cov_fav_df = df.query('isdogmlcover == 1')\n",
    "    dog_cov_fav_df = dog_cov_fav_df.groupby(['favml'])['isdogmlcover'].sum()\n",
    "    dog_cov_fav_df = dog_cov_fav_df.to_frame().reset_index()\n",
    "\n",
    "    # Favorites\n",
    "    fav_df = df.query('isfavmlcover == 1')\n",
    "    fav_df = fav_df.groupby(['favml'])['isfavmlcover'].sum()\n",
    "    fav_df = fav_df.to_frame().reset_index()\n",
    "\n",
    "    fav_cov_dog_df = df.query('isfavmlcover == 1')\n",
    "    fav_cov_dog_df = fav_cov_dog_df.groupby(['dogml'])['isfavmlcover'].sum()\n",
    "    fav_cov_dog_df = fav_cov_dog_df.to_frame().reset_index()\n",
    "\n",
    "    # Test others:\n",
    "    ml_results(dog_df,dog_cov_fav_df,fav_df,fav_cov_dog_df)\n",
    "    ml_heatmap_density(dog_df=dog_df)\n",
    "    ml_line(dog_df=dog_df,fav_df=fav_df)\n",
    "    ml_line_traces(nfl_dog_df=nfl_dog_df,nhl_dog_df=nhl_dog_df,ncaaf_dog_df=ncaaf_dog_df,nfl_fav_df=nfl_fav_df,nhl_fav_df=nhl_fav_df,ncaaf_fav_df=ncaaf_fav_df)\n",
    "    ml_bar_traces(nfl_dog_df=nfl_dog_df,nhl_dog_df=nhl_dog_df,ncaaf_dog_df=ncaaf_dog_df,nfl_fav_df=nfl_fav_df,nhl_fav_df=nhl_fav_df,ncaaf_fav_df=ncaaf_fav_df)\n",
    "   \n",
    "    fig = go.Figure()\n",
    "\n",
    "    # Add traces\n",
    "    dog_sizes = dog_df['isdogmlcover']\n",
    "    fav_sizes = fav_df['isfavmlcover']\n",
    "    dog_cov_sizes = dog_cov_fav_df['isdogmlcover']\n",
    "    fav_cov_sizes = fav_cov_dog_df['isfavmlcover']\n",
    "\n",
    "    fig.add_trace(go.Scatter(x=dog_df['dogml'],y=dog_df['isdogmlcover'],name='Dog Cover Dog ML',mode='markers',\n",
    "                             marker=dict(color='blue',size=dog_sizes,sizemode='area',sizeref=2.*max(dog_sizes)/(40.**2),sizemin=4)))\n",
    "    fig.add_trace(go.Scatter(x=fav_df['favml'],y=fav_df['isfavmlcover'],name='Favorite Cover Favorite ML',mode='markers',\n",
    "                             marker=dict(color='orange',size=fav_sizes,sizemode='area',sizeref=2.*max(fav_sizes)/(40.**2),sizemin=4)))\n",
    "    \n",
    "    fig.add_trace(go.Scatter(x=dog_cov_fav_df['favml'],y=dog_cov_fav_df['isdogmlcover'],name='Dog Cover Favorite ML',mode='markers',\n",
    "                             marker=dict(color='green',size=dog_cov_sizes,sizemode='area',sizeref=2.*max(dog_cov_sizes)/(40.**2),sizemin=4)))\n",
    "    fig.add_trace(go.Scatter(x=fav_cov_dog_df['dogml'],y=fav_cov_dog_df['isfavmlcover'],name='Favorite Cover Dog ML',mode='markers',\n",
    "                             marker=dict(color='red',size=fav_cov_sizes,sizemode='area',sizeref=2.*max(fav_cov_sizes)/(40.**2),sizemin=4)))\n",
    "\n",
    "    fig.update_yaxes(dtick=5)\n",
    "    fig.update_layout(\n",
    "        title=f'{msg}: Comparison of Dog and Favorite Covers by Money Line',\n",
    "        yaxis_title='Number of Covers',\n",
    "        xaxis_title='Money Line',\n",
    "        autosize=False,\n",
    "        width=800,\n",
    "        height=600,\n",
    "        margin=dict(l=50, r=50, b=100, t=100, pad=4),\n",
    "        yaxis_zeroline=True, xaxis_zeroline=True,\n",
    "        xaxis=dict(\n",
    "            tickmode=\"linear\",\n",
    "            dtick=dtick\n",
    "        )\n",
    "    )\n",
    "    fig.show()"
   ]
  },
  {
   "cell_type": "markdown",
   "metadata": {},
   "source": [
    "<h3>spread_covers - Bar</h3>"
   ]
  },
  {
   "cell_type": "code",
   "execution_count": 197,
   "metadata": {},
   "outputs": [],
   "source": [
    "def spread_covers(game_team_res_df,leag_str):\n",
    "    leagid = 1\n",
    "    msg = 'Professional Football'\n",
    "    dtick = 25\n",
    "    if leag_str == '2':\n",
    "        leagid = 13\n",
    "        msg = 'Professional Hockey'\n",
    "    elif leag_str == '3':\n",
    "        leagid = 8\n",
    "        msg = 'College Football'\n",
    "        dtick = 10\n",
    "\n",
    "    test_df = game_team_res_df.copy()\n",
    "    df = game_team_res_df.query(f\"leagid == {leagid}\")\n",
    "\n",
    "    dog_df = df.query('isdog == 1 and iscover == 1')\n",
    "    # dog_df = dog_df.groupby(['leagyear','spread'])['iscover'].sum()\n",
    "    dog_df = dog_df.groupby(['spread'])['iscover'].sum()\n",
    "    dog_df = dog_df.to_frame().reset_index()\n",
    "    fav_df = df.query('isfav == 1 and iscover == 1')\n",
    "    # fav_df = fav_df.groupby(['leagyear','spread'])['iscover'].sum()\n",
    "    fav_df = fav_df.groupby(['spread'])['iscover'].sum()\n",
    "    fav_df = fav_df.to_frame().reset_index()\n",
    "\n",
    "\n",
    "    # Test Scenarios:\n",
    "    nfl_df_dog = test_df.copy()\n",
    "    nhl_df_dog = test_df.copy()\n",
    "    ncaaf_df_dog = test_df.copy()\n",
    "    nfl_df_fav = test_df.copy()\n",
    "    nhl_df_fav = test_df.copy()\n",
    "    ncaaf_df_fav = test_df.copy()\n",
    "\n",
    "    nfl_dog_df = nfl_df_dog.query('(leagid == 1 and leagyear == 2024) and (isdog == 1 and iscover == 1)')\n",
    "    nfl_dog_df = nfl_dog_df.groupby(['spread'])['iscover'].sum()\n",
    "    nfl_dog_df = nfl_dog_df.to_frame().reset_index()\n",
    "\n",
    "    nhl_dog_df = nhl_df_dog.query('(leagid == 13 and leagyear == 2024) and (isdog == 1 and iscover == 1)')\n",
    "    nhl_dog_df = nhl_dog_df.groupby(['spread'])['iscover'].sum()\n",
    "    nhl_dog_df = nhl_dog_df.to_frame().reset_index()\n",
    "\n",
    "    ncaaf_dog_df = ncaaf_df_dog.query('(leagid == 8 and leagyear == 2024) and (isdog == 1 and iscover == 1)')\n",
    "    ncaaf_dog_df = ncaaf_dog_df.groupby(['spread'])['iscover'].sum()\n",
    "    ncaaf_dog_df = ncaaf_dog_df.to_frame().reset_index()\n",
    "\n",
    "    nfl_fav_df = nfl_df_fav.query('(leagid == 1 and leagyear == 2024) and (isfav == 1 and iscover == 1)')\n",
    "    nfl_fav_df = nfl_fav_df.groupby(['spread'])['iscover'].sum()\n",
    "    nfl_fav_df = nfl_fav_df.to_frame().reset_index()\n",
    "\n",
    "    nhl_fav_df = nhl_df_fav.query('(leagid == 13 and leagyear == 2024) and (isfav == 1 and iscover == 1)')\n",
    "    nhl_fav_df = nhl_fav_df.groupby(['spread'])['iscover'].sum()\n",
    "    nhl_fav_df = nhl_fav_df.to_frame().reset_index()\n",
    "\n",
    "    ncaaf_fav_df = ncaaf_df_fav.query('(leagid == 8 and leagyear == 2024) and (isfav == 1 and iscover == 1)')\n",
    "    ncaaf_fav_df = ncaaf_fav_df.groupby(['spread'])['iscover'].sum()\n",
    "    ncaaf_fav_df = ncaaf_fav_df.to_frame().reset_index()\n",
    "    # End Test Scenarios\n",
    "\n",
    "    # Test others:\n",
    "    ml_covers_bar_all(nfl_dog_df=nfl_dog_df,nhl_dog_df=nhl_dog_df,ncaaf_dog_df=ncaaf_dog_df,nfl_fav_df=nfl_fav_df,nhl_fav_df=nhl_fav_df,ncaaf_fav_df=ncaaf_fav_df)\n",
    "\n",
    "    fig = px.bar()\n",
    "\n",
    "    # Create Bar Chart\n",
    "    min_sprd = dog_df['spread'].min()\n",
    "    max_sprd = dog_df['spread'].max()\n",
    "    # fig = px.bar(dog_df,x='spread',y='dogcover',title='2024 Dog Spread Covers', color_continuous_scale=px.colors.sequential.Inferno)\n",
    "    fig.add_trace(go.Bar(x=dog_df['spread'], y=dog_df['iscover'], name='Dogs',marker_color='blue', width=0.2, offset=0))\n",
    "    fig.add_trace(go.Bar(x=fav_df['spread'], y=fav_df['iscover'], name='Favorites',marker_color='orange', width=0.2, offset=0.2))\n",
    "    # fig.update_xaxes(range=[min_sprd,max_sprd],zeroline=True, zerolinewidth=2, zerolinecolor='red')\n",
    "    fig.update_yaxes(dtick=dtick)\n",
    "    fig.update_layout(\n",
    "        title=f'{msg}: Comparison of Dog and Favorite Covers by Spread',\n",
    "        yaxis_title='Number of Covers',\n",
    "        xaxis_title='Spread',\n",
    "        barmode='group',\n",
    "        bargap=0.1,\n",
    "        bargroupgap=0.2,\n",
    "        autosize=False,\n",
    "        width=800,\n",
    "        height=600,\n",
    "        margin=dict(l=50, r=50, b=100, t=100, pad=4),\n",
    "        xaxis=dict(\n",
    "            tickmode=\"linear\",\n",
    "            dtick=1\n",
    "        )\n",
    "    )\n",
    "    fig.show()\n",
    "    # print(dog_df.head())\n",
    "    # print(fav_df.head())\n",
    "    "
   ]
  },
  {
   "cell_type": "markdown",
   "metadata": {},
   "source": [
    "<h2>SQL Queries</h2>"
   ]
  },
  {
   "cell_type": "markdown",
   "metadata": {},
   "source": [
    "<h3>Game Team Results Detail</h3>"
   ]
  },
  {
   "cell_type": "markdown",
   "metadata": {},
   "source": [
    "<h4>Dogs</h4>"
   ]
  },
  {
   "cell_type": "markdown",
   "metadata": {},
   "source": [
    "<h5>get_detail_dog_covers_data_leag_by_year</h5>\n",
    "<h5>Dog Spread Covers</h5>\n",
    "<code>select vg.spread,sum(vg.iscover = 1)<br>\n",
    "from sch_4ag.vw_gameteamresultsdetail vg<br>\n",
    "where (vg.leagid = 1 and vg.leagyear = 2024) and (vg.isdog = 1 and vg.iscover = 1)<br>\n",
    "group by vg.spread<br>\n",
    "order by vg.spread;</code>"
   ]
  },
  {
   "cell_type": "code",
   "execution_count": 198,
   "metadata": {},
   "outputs": [],
   "source": [
    "def get_detail_dog_covers_data_leag_by_year(df,leagid,leagyear):\n",
    "    qry = f'(leagid == {leagid} and leagyear == {leagyear}) and (isdog == 1 and iscover == 1)'\n",
    "    ret_df = df.query(qry)\n",
    "    ret_df = ret_df.groupby(['spread'])['iscover'].sum()\n",
    "    ret_df = ret_df.to_frame().reset_index()\n",
    "    return ret_df"
   ]
  },
  {
   "cell_type": "markdown",
   "metadata": {},
   "source": [
    "<h5>get_detail_dog_covers_data_all_by_year</h5>\n",
    "<h5>Dog Spread Covers by Year</h5>\n",
    "<code>select vg.leagid,vg.spread,sum(vg.iscover = 1)<br>\n",
    "from sch_4ag.vw_gameteamresultsdetail vg<br>\n",
    "where vg.leagyear = 2024 and (vg.isdog = 1 and vg.iscover = 1)<br>\n",
    "group by vg.leagid,vg.spread<br>\n",
    "order by vg.spread,vg.leagid;</code>"
   ]
  },
  {
   "cell_type": "code",
   "execution_count": 199,
   "metadata": {},
   "outputs": [],
   "source": [
    "def get_detail_dog_covers_data_all_by_year(df,leagyear):\n",
    "    qry = f'leagyear == {leagyear} and (isdog == 1 and iscover == 1)'\n",
    "    ret_df = df.query(qry)\n",
    "    ret_df = ret_df.groupby([['leagid','spread']])['iscover'].sum()\n",
    "    ret_df = ret_df.to_frame().reset_index()\n",
    "    return ret_df"
   ]
  },
  {
   "cell_type": "markdown",
   "metadata": {},
   "source": [
    "<h5>get_detail_dog_covers_v_fav_covers_data_leag_by_year</h5>\n",
    "<h5>Dog Spread Covers vs Fav Covers</h5>\n",
    "<code>select vg.leagid,vg.spread,sum(vg.iscover = 1),sum(vg.iscover = 0)<br>\n",
    "from sch_4ag.vw_gameteamresultsdetail vg<br>\n",
    "where (vg.leagid = 1 and vg.leagyear = 2024) and (vg.isdog = 1 and vg.ispush = 0)<br>\n",
    "group by vg.leagid,vg.spread<br>\n",
    "order by vg.spread;</code>"
   ]
  },
  {
   "cell_type": "code",
   "execution_count": 200,
   "metadata": {},
   "outputs": [],
   "source": [
    "def get_detail_dog_covers_v_fav_covers_data_leag_by_year(df,leagid,leagyear):\n",
    "    qry = f'(leagid == {leagid} and leagyear == {leagyear}) and (isdog == 1 and ispush == 0)'\n",
    "    ret_df = df.query(qry)\n",
    "    ret_df = ret_df.groupby(['spread']).agg({\n",
    "        'iscover': [\n",
    "            ('dogcover', lambda x: (x == 1).sum()),\n",
    "            ('favcover', lambda x: (x == 0).sum())\n",
    "        ]\n",
    "    }).reset_index()\n",
    "    ret_df = ret_df.sort_values('spread')\n",
    "    ret_df = pd.DataFrame(ret_df)\n",
    "    # print(ret_df.head())\n",
    "    return ret_df"
   ]
  },
  {
   "cell_type": "markdown",
   "metadata": {},
   "source": [
    "<h5>get_detail_dog_covers_v_fav_covers_all</h5>\n",
    "<h5>Dog Spread Covers vs Fav Covers - All</h5>\n",
    "<code>select vg.leagyear,vg.leagid,vg.spread,sum(vg.iscover = 1),sum(vg.iscover = 0)<br>\n",
    "from sch_4ag.vw_gameteamresultsdetail vg<br>\n",
    "where vg.isdog = 1  and vg.ispush = 0<br>\n",
    "group by vg.leagyear,vg.leagid,vg.spread<br>\n",
    "order by vg.leagyear desc,vg.spread,vg.leagid;</code>"
   ]
  },
  {
   "cell_type": "code",
   "execution_count": 201,
   "metadata": {},
   "outputs": [],
   "source": [
    "def get_detail_dog_covers_v_fav_covers_all(df):\n",
    "    qry = f'isdog == 1 and ispush == 0'\n",
    "    ret_df = df.query(qry)\n",
    "    ret_df = ret_df.groupby([['leagyear','leagid','spread']]).agg({\n",
    "        'iscover': [\n",
    "            ('dogcover', lambda x: (x == 1).sum()),\n",
    "            ('favcover', lambda x: (x == 0).sum())\n",
    "        ]\n",
    "    }).reset_index()\n",
    "    ret_df = ret_df.sort_values(by=['leagyear','spread','leagid'], ascending=[False,True,True])\n",
    "    ret_df = pd.DataFrame(ret_df)\n",
    "    # print(ret_df.head())\n",
    "    return ret_df"
   ]
  },
  {
   "cell_type": "markdown",
   "metadata": {},
   "source": [
    "<h5>get_detail_dog_ml_v_fav_covers_leag_by_year</h5>\n",
    "<h5>Dog ML Wins vs Fav Covers</h5>\n",
    "<code>select vg.leagid,vg.dogml,vg.favml,sum(vg.isdogmlcover = 1),sum(vg.isfavmlcover = 1)<br>\n",
    "from sch_4ag.vw_gameteamresultsdetail vg<br>\n",
    "where (vg.leagid in (1,8,13) and leagyear = 2024) and (vg.dogml != vg.favml)<br>\n",
    "group by vg.leagid,vg.dogml,vg.favml<br>\n",
    "order by vg.dogml,vg.leagid;</code>"
   ]
  },
  {
   "cell_type": "code",
   "execution_count": null,
   "metadata": {},
   "outputs": [],
   "source": [
    "def get_detail_dog_ml_v_fav_covers_leag_by_year(df,leagid,leagyear):\n",
    "    qry = f'(leagid == {leagid} and leagyear == {leagyear}) and (dogml != favml)'\n",
    "    ret_df = df.query(qry)\n",
    "    ret_df = ret_df.groupby(['leagid','dogml','favml']).agg({\n",
    "        'isdogmlcover': (lambda x: (x == 1).sum()),\n",
    "        'isfavmlcover': (lambda x: (x == 1).sum())\n",
    "    }).reset_index()\n",
    "    ret_df = ret_df.sort_values(by=['dogml','leagid'], ascending=[True,True])\n",
    "    ret_df = pd.DataFrame(ret_df)\n",
    "    # print(ret_df.head())\n",
    "    return ret_df"
   ]
  },
  {
   "cell_type": "markdown",
   "metadata": {},
   "source": [
    "<h5>get_detail_dog_ml_v_fav_covers_by_year_groupby_leag</h5>\n",
    "<h5>Dog ML Wins vs Fav Covers - by year grouped by league</h5>\n",
    "<code>select vg.leagid,vg.dogml,vg.favml,sum(vg.isdogmlcover = 1),sum(vg.isfavmlcover = 1)<br>\n",
    "from sch_4ag.vw_gameteamresultsdetail vg<br>\n",
    "where leagyear = 2024 and (vg.dogml != vg.favml)<br>\n",
    "group by vg.leagid,vg.dogml,vg.favml<br>\n",
    "order by vg.dogml,vg.leagid;</code>"
   ]
  },
  {
   "cell_type": "code",
   "execution_count": null,
   "metadata": {},
   "outputs": [],
   "source": [
    "def get_detail_dog_ml_v_fav_covers_by_year_groupby_leag(df,leagyear):\n",
    "    qry = f'leagyear == {leagyear} and (dogml != favml)'\n",
    "    ret_df = df.query(qry)\n",
    "    ret_df = ret_df.groupby(['leagid','dogml','favml']).agg({\n",
    "        'isdogmlcover': (lambda x: (x == 1).sum()),\n",
    "        'isfavmlcover': (lambda x: (x == 1).sum())\n",
    "    }).reset_index()\n",
    "    ret_df = ret_df.sort_values(by=['dogml','leagid'], ascending=[True,True])\n",
    "    ret_df = pd.DataFrame(ret_df)\n",
    "    # print(ret_df.head())\n",
    "    return ret_df"
   ]
  },
  {
   "cell_type": "markdown",
   "metadata": {},
   "source": [
    "<h5>get_detail_dog_ml_v_fav_covers_all_league_totals</h5>\n",
    "<h5>Dog ML Wins vs Fav Wins - all league totals</h5>\n",
    "<code>select vg.dogml,vg.favml,sum(vg.isdogmlcover = 1),sum(vg.isfavmlcover = 1)<br>\n",
    "from sch_4ag.vw_gameteamresultsdetail vg<br>\n",
    "where vg.dogml != vg.favml<br>\n",
    "group by vg.dogml,vg.favml<br>\n",
    "order by vg.dogml;</code>"
   ]
  },
  {
   "cell_type": "code",
   "execution_count": null,
   "metadata": {},
   "outputs": [],
   "source": [
    "def get_detail_dog_ml_v_fav_covers_all_league_totals(df):\n",
    "    qry = f'dogml != favml'\n",
    "    ret_df = df.query(qry)\n",
    "    ret_df = ret_df.groupby(['dogml','favml']).agg({\n",
    "        'isdogmlcover': (lambda x: (x == 1).sum()),\n",
    "        'isfavmlcover': (lambda x: (x == 1).sum())\n",
    "    }).reset_index()\n",
    "    ret_df = ret_df.sort_values(by=['dogml'], ascending=[True])\n",
    "    ret_df = pd.DataFrame(ret_df)\n",
    "    print(ret_df.head())\n",
    "    return ret_df"
   ]
  },
  {
   "cell_type": "markdown",
   "metadata": {},
   "source": [
    "<h4>Favorites</h4>"
   ]
  },
  {
   "cell_type": "markdown",
   "metadata": {},
   "source": [
    "<h5>get_detail_fav_spread_data_leag_by_year</h5>\n",
    "<h5>Fav Spread Covers</h5>\n",
    "<code>select vg.spread,sum(vg.iscover = 1)<br>\n",
    "from sch_4ag.vw_gameteamresultsdetail vg<br>\n",
    "where (vg.leagid = 1 and vg.leagyear = 2024) and (vg.isfav = 1 and vg.iscover = 1)<br>\n",
    "group by vg.spread<br>\n",
    "order by vg.spread;</code>"
   ]
  },
  {
   "cell_type": "code",
   "execution_count": 203,
   "metadata": {},
   "outputs": [],
   "source": [
    "def get_detail_fav_spread_data_leag_by_year(df,leagid,leagyear):\n",
    "    qry = f'(leagid == {leagid} and leagyear == {leagyear}) and (isfav == 1 and iscover == 1)'\n",
    "    ret_df = df.query(qry)\n",
    "    ret_df = ret_df.groupby(['spread'])['iscover'].sum()\n",
    "    ret_df = ret_df.to_frame().reset_index()\n",
    "    return ret_df"
   ]
  },
  {
   "cell_type": "markdown",
   "metadata": {},
   "source": [
    "<h5>get_detail_fav_covers_data_all_by_year</h5>\n",
    "<h5>Fav Spread Covers by Year</h5>\n",
    "<code>select vg.leagid,vg.spread,sum(vg.iscover = 1)<br>\n",
    "from sch_4ag.vw_gameteamresultsdetail vg<br>\n",
    "where vg.leagyear = 2024 and (vg.isfav = 1 and vg.iscover = 1)<br>\n",
    "group by vg.spread,vg.leagid<br>\n",
    "order by vg.spread;</code>"
   ]
  },
  {
   "cell_type": "code",
   "execution_count": 204,
   "metadata": {},
   "outputs": [],
   "source": [
    "def get_detail_fav_covers_data_all_by_year(df,leagyear):\n",
    "    qry = f'leagyear == {leagyear} and (isfav == 1 and iscover == 1)'\n",
    "    ret_df = df.query(qry)\n",
    "    ret_df = ret_df.groupby([['leagid','spread']])['iscover'].sum()\n",
    "    ret_df = ret_df.to_frame().reset_index()\n",
    "    return ret_df"
   ]
  },
  {
   "cell_type": "markdown",
   "metadata": {},
   "source": [
    "<h5>get_detail_fav_covers_v_fav_covers_data_leag_by_year</h5>\n",
    "<h5>Fav Spread Covers vs Dog Covers</h5>\n",
    "<code>select vg.leagid,vg.spread,sum(vg.iscover = 1),sum(vg.iscover = 0)<br>\n",
    "from sch_4ag.vw_gameteamresultsdetail vg<br>\n",
    "where (vg.leagid = 1 and vg.leagyear = 2024) and (vg.isfav = 1 and vg.ispush = 0)<br>\n",
    "group by vg.leagid,vg.spread<br>\n",
    "order by vg.spread;</code>"
   ]
  },
  {
   "cell_type": "code",
   "execution_count": null,
   "metadata": {},
   "outputs": [],
   "source": [
    "def get_detail_fav_covers_v_dog_covers_data_leag_by_year(df,leagid,leagyear):\n",
    "    qry = f'(leagid == {leagid} and leagyear == {leagyear}) and (isfav == 1 and ispush == 0)'\n",
    "    ret_df = df.query(qry)\n",
    "    ret_df = ret_df.groupby(['spread']).agg({\n",
    "        'iscover': [\n",
    "            ('favcover', lambda x: (x == 1).sum()),\n",
    "            ('dogcover', lambda x: (x == 0).sum())\n",
    "        ]\n",
    "    }).reset_index()\n",
    "    ret_df = ret_df.sort_values('spread')\n",
    "    ret_df = pd.DataFrame(ret_df)\n",
    "    # print(ret_df.head())\n",
    "    return ret_df"
   ]
  },
  {
   "cell_type": "markdown",
   "metadata": {},
   "source": [
    "<h5>get_detail_fav_covers_v_dog_covers_all</h5>\n",
    "<h5>Fav Spread Covers vs Dog Covers - All</h5>\n",
    "<code>select vg.leagyear,vg.leagid,vg.spread,sum(vg.iscover = 1),sum(vg.iscover = 0)<br>\n",
    "from sch_4ag.vw_gameteamresultsdetail vg<br>\n",
    "where vg.isfav = 1  and vg.ispush = 0<br>\n",
    "group by vg.leagyear,vg.leagid,vg.spread<br>\n",
    "order by vg.leagyear desc,vg.spread,vg.leagid;</code>"
   ]
  },
  {
   "cell_type": "code",
   "execution_count": 206,
   "metadata": {},
   "outputs": [],
   "source": [
    "def get_detail_fav_covers_v_dog_covers_all(df):\n",
    "    qry = f'isfav == 1 and ispush == 0'\n",
    "    ret_df = df.query(qry)\n",
    "    ret_df = ret_df.groupby([['leagyear','leagid','spread']]).agg({\n",
    "        'iscover': [\n",
    "            ('favcover', lambda x: (x == 1).sum()),\n",
    "            ('dogcover', lambda x: (x == 0).sum())\n",
    "        ]\n",
    "    }).reset_index()\n",
    "    ret_df = ret_df.sort_values(by=['leagyear','spread','leagid'], ascending=[False,True,True])\n",
    "    ret_df = pd.DataFrame(ret_df)\n",
    "    # print(ret_df.head())\n",
    "    return ret_df"
   ]
  },
  {
   "cell_type": "markdown",
   "metadata": {},
   "source": [
    "<h5>get_detail_fav_ml_v_dog_covers_leag_by_year</h5>\n",
    "<h5>Fav ML Wins vs Dog Covers</h5>\n",
    "<code>select vg.leagid,vg.favml,vg.dogml,sum(vg.isfavmlcover = 1),sum(vg.isdogmlcover = 1)<br>\n",
    "from sch_4ag.vw_gameteamresultsdetail vg<br>\n",
    "where (vg.leagid in (1,8,13) and leagyear = 2024) and (vg.dogml != vg.favml)<br>\n",
    "group by vg.leagid,vg.favml,vg.dogml<br>\n",
    "order by vg.favml,vg.leagid;</code>"
   ]
  },
  {
   "cell_type": "code",
   "execution_count": null,
   "metadata": {},
   "outputs": [],
   "source": [
    "def get_detail_fav_ml_v_dog_covers_leag_by_year(df,leagid,leagyear):\n",
    "    qry = f'(leagid == {leagid} and leagyear == {leagyear}) and (dogml != favml)'\n",
    "    ret_df = df.query(qry)\n",
    "    ret_df = ret_df.groupby(['leagid','favml','dogml']).agg({\n",
    "        'isfavmlcover': (lambda x: (x == 1).sum()),\n",
    "        'isdogmlcover': (lambda x: (x == 1).sum())\n",
    "    }).reset_index()\n",
    "    ret_df = ret_df.sort_values(by=['favml','leagid'], ascending=[True,True])\n",
    "    ret_df = pd.DataFrame(ret_df)\n",
    "    # print(ret_df.head())\n",
    "    return ret_df"
   ]
  },
  {
   "cell_type": "markdown",
   "metadata": {},
   "source": [
    "<h5>get_detail_fav_ml_v_dog_covers_by_year_groupby_leag</h5>\n",
    "<h5>Fav ML Wins vs Dog Covers - by year grouped by league</h5>\n",
    "<code>select vg.leagid,vg.favml,vg.dogml,sum(vg.isfavmlcover = 1),sum(vg.isdogmlcover = 1)<br>\n",
    "from sch_4ag.vw_gameteamresultsdetail vg<br>\n",
    "where leagyear = 2024 and (vg.dogml != vg.favml)<br>\n",
    "group by vg.leagid,vg.favml,vg.dogml<br>\n",
    "order by vg.favml,vg.leagid;</code>"
   ]
  },
  {
   "cell_type": "code",
   "execution_count": null,
   "metadata": {},
   "outputs": [],
   "source": [
    "def get_detail_fav_ml_v_dog_covers_by_year_groupby_leag(df,leagyear):\n",
    "    qry = f'leagyear == {leagyear} and (dogml != favml)'\n",
    "    ret_df = df.query(qry)\n",
    "    ret_df = ret_df.groupby(['leagid','favml','dogml']).agg({\n",
    "        'isfavmlcover': (lambda x: (x == 1).sum()),\n",
    "        'isdogmlcover': (lambda x: (x == 1).sum())\n",
    "    }).reset_index()\n",
    "    ret_df = ret_df.sort_values(by=['favml','leagid'], ascending=[True,True])\n",
    "    ret_df = pd.DataFrame(ret_df)\n",
    "    # print(ret_df.head())\n",
    "    return ret_df"
   ]
  },
  {
   "cell_type": "markdown",
   "metadata": {},
   "source": [
    "<h5>get_detail_fav_ml_v_dog_covers_all_league_totals</h5>\n",
    "<h5>Fav ML Wins vs Dog Wins - all league totals</h5>\n",
    "<code>select vg.favml,vg.dogml,sum(vg.isfavmlcover = 1),sum(vg.isdogmlcover = 1)<br>\n",
    "from sch_4ag.vw_gameteamresultsdetail vg<br>\n",
    "where vg.dogml != vg.favml<br>\n",
    "group by vg.favml,vg.dogml<br>\n",
    "order by vg.favml;</code>"
   ]
  },
  {
   "cell_type": "code",
   "execution_count": null,
   "metadata": {},
   "outputs": [],
   "source": [
    "def get_detail_fav_ml_v_dog_covers_all_league_totals(df):\n",
    "    qry = f'dogml != favml'\n",
    "    ret_df = df.query(qry)\n",
    "    ret_df = ret_df.groupby(['favml','dogml']).agg({\n",
    "        'isfavmlcover': (lambda x: (x == 1).sum()),\n",
    "        'isdogmlcover': (lambda x: (x == 1).sum())\n",
    "    }).reset_index()\n",
    "    ret_df = ret_df.sort_values(by=['favml'], ascending=[True])\n",
    "    ret_df = pd.DataFrame(ret_df)\n",
    "    print(ret_df.head())\n",
    "    return ret_df"
   ]
  },
  {
   "cell_type": "markdown",
   "metadata": {},
   "source": [
    "<h2>Notebook Main</h2>\n",
    "<p>Notebook main command center</p>"
   ]
  },
  {
   "cell_type": "markdown",
   "metadata": {},
   "source": [
    "<h3>Global Variables</h3>"
   ]
  },
  {
   "cell_type": "code",
   "execution_count": 207,
   "metadata": {},
   "outputs": [],
   "source": [
    "valid_entries = ['','u','r','s','1','2','3']\n"
   ]
  },
  {
   "cell_type": "markdown",
   "metadata": {},
   "source": [
    "<h3>handle_game_results</h3>\n",
    "<p>Handles the Game Results Process</p>\n",
    "<p>Params:</p>\n",
    "<ul>\n",
    "    <li>log_file: file used for logging the notebook actions</li>\n",
    "    <li>mysql_engine: mysql database engine</li>\n",
    "    <li>orcl_engine: oracle database engine</li>\n",
    "</ul>"
   ]
  },
  {
   "cell_type": "code",
   "execution_count": 208,
   "metadata": {},
   "outputs": [],
   "source": [
    "def handle_game_results(mysql_engine,orcl_engine):\n",
    "# def handle_game_results(log_file,mysql_engine,orcl_engine):\n",
    "    game_res_df = pd.DataFrame()\n",
    "    game_team_res_df = pd.DataFrame()\n",
    "    # game_team_det_df = pd.DataFrame()\n",
    "    db_str = input(\"DB 1 (mysql), 2 (oracle): \")\n",
    "    if db_str not in valid_entries:\n",
    "        print('Notebook Failed on Validation')\n",
    "        print(f'db_str={db_str}')\n",
    "        error = KeyError('User Entered Invalid Data')\n",
    "        raise(error)\n",
    "    if db_str == '1':\n",
    "        # util.write_output(log_file,f'Starting MySql Processing...')\n",
    "        print(f'Starting MySql Processing...')\n",
    "        game_res_df = game_results(engine=mysql_engine,db_schema=util.mysql_db_schema,view_name='vw_gameresults',msg='mysql')\n",
    "        game_team_res_df = game_results(engine=mysql_engine,db_schema=util.mysql_db_schema,view_name='vw_gameteamresultsdetail',msg='mysql')\n",
    "        print(f'Finished MySql Processing!')\n",
    "        # util.write_output(log_file,f'Finished MySql Processing!')\n",
    "    else:\n",
    "        # util.write_output(log_file,f'Starting Oracle Processing...')\n",
    "        print(f'Starting Oracle Processing...')\n",
    "        game_res_df = game_results(engine=orcl_engine,db_schema=util.orcl_db_schema,view_name='vw_gameresults',msg='oracle')\n",
    "        game_team_res_df = game_results(engine=orcl_engine,db_schema=util.orcl_db_schema,view_name='vw_gameteamresultsdetail',msg='oracle')\n",
    "        get_detail_dog_ml_v_fav_covers_leag_by_year(df=game_team_res_df)\n",
    "        # get_detail_dog_covers_v_fav_covers_data_leag_by_year(df=game_team_res_df,leagid=1,leagyear=2024)\n",
    "        # get_detail_fav_covers_v_fav_covers_data_leag_by_year(df=game_team_res_df,leagid=1,leagyear=2024)\n",
    "        util.close_orcl_resources(log_file=None,orcl_engine=orcl_engine)\n",
    "        print(f'Finished Oracle Processing!')\n",
    "        # util.write_output(log_file,f'Finished Oracle Processing!')\n",
    "    return game_res_df,game_team_res_df # ,game_team_det_df\n",
    "        "
   ]
  },
  {
   "cell_type": "markdown",
   "metadata": {},
   "source": [
    "<h3>start</h3>\n",
    "<p>Starts the notebook process. Prompts user for input. Calls the notebooks methods</p>\n",
    "<p>Params:</p>\n",
    "<ul>\n",
    "    <li>log_file: file used for logging the notebook actions</li>\n",
    "    <li>mysql_engine: mysql database engine</li>\n",
    "    <li>orcl_engine: oracle database engine</li>\n",
    "</ul>"
   ]
  },
  {
   "cell_type": "code",
   "execution_count": 209,
   "metadata": {},
   "outputs": [],
   "source": [
    "# def start(log_file,mysql_engine,orcl_engine):\n",
    "def start(mysql_engine,orcl_engine):\n",
    "    user_lst = ['nfl','nhl','ncaaf']\n",
    "    u_inp = input(\"'u' - Upcoming Games, 'r' - Game Results: \").lower()\n",
    "\n",
    "    if u_inp not in valid_entries:\n",
    "        print('Notebook Failed on Validation')\n",
    "        print(f'u_inp={u_inp}')\n",
    "        error = KeyError('User Entered Invalid Data')\n",
    "        raise(error)\n",
    "    else:\n",
    "        if u_inp == 'u':\n",
    "            drop_cols = ['awayteam','hometeam','favteam','dogteam','winteam','loseteam']\n",
    "            u_df = util.bundle_data(user_lst=user_lst,drop_cols=drop_cols)\n",
    "            u_df = u_df.query(f'dbstatus == 0')\n",
    "            print(f'Filtered Rows={len(u_df)}')\n",
    "            print(u_df)\n",
    "        elif u_inp == 'r':\n",
    "            # game_res_df,game_team_res_df = handle_game_results(log_file=log_file,mysql_engine=mysql_engine,orcl_engine=orcl_engine)\n",
    "            game_res_df,game_team_res_df = handle_game_results(mysql_engine=mysql_engine,orcl_engine=orcl_engine)\n",
    "            leag_str = input(\"'1' - nfl, '2' - nhl, '3' - ncaaf: \").lower()\n",
    "            # ml_results(game_team_res_df=game_team_res_df)\n",
    "            # ml_covers(game_team_res_df=game_team_res_df,leag_str=leag_str)\n",
    "            # spread_covers(game_team_res_df=game_team_res_df,leag_str=leag_str)\n",
    "        else:\n",
    "            print(f'No Data to Process!')\n",
    "            # util.write_output(log_file,f'No Data to Process!')\n",
    "            "
   ]
  },
  {
   "cell_type": "markdown",
   "metadata": {},
   "source": [
    "<h3>run</h3>\n",
    "<p>Runs the notebook etl process</p>"
   ]
  },
  {
   "cell_type": "code",
   "execution_count": 210,
   "metadata": {},
   "outputs": [],
   "source": [
    "def run():\n",
    "    start_time = dt.now()\n",
    "    # log_file = util.create_log_file('log-game-analysis')\n",
    "    print(f'{start_time}|Starting...')\n",
    "    # util.write_output(log_file,f'{start_time}|Starting...')\n",
    "\n",
    "    start(mysql_engine=util.mysql_engine(),orcl_engine=util.orcl_engine())\n",
    "    # start(log_file=log_file,mysql_engine=util.mysql_engine(),orcl_engine=util.orcl_engine())\n",
    "\n",
    "    end_time = dt.now()\n",
    "    processing_time_str = f'Total Time: {end_time - start_time}'\n",
    "    # util.write_output(log_file,processing_time_str)\n",
    "    # util.write_output(log_file,f'{end_time}|Done!')\n",
    "    print(processing_time_str)\n",
    "    print(f'{end_time}|Done!')\n",
    "    "
   ]
  },
  {
   "cell_type": "markdown",
   "metadata": {},
   "source": [
    "<h3>Notebook Commands</h3>\n",
    "<p>Command(s) used to run the notebook/script</p>"
   ]
  },
  {
   "cell_type": "code",
   "execution_count": 211,
   "metadata": {},
   "outputs": [
    {
     "name": "stdout",
     "output_type": "stream",
     "text": [
      "2025-02-07 09:59:08.112294|Starting...\n"
     ]
    },
    {
     "name": "stdout",
     "output_type": "stream",
     "text": [
      "Starting Oracle Processing...\n",
      "Error:expected str, bytes or os.PathLike object, not NoneType\n",
      "Error:expected str, bytes or os.PathLike object, not NoneType\n",
      "Table vw_gameresults: oracle|Rows=3989\n",
      "Error:expected str, bytes or os.PathLike object, not NoneType\n",
      "Error:expected str, bytes or os.PathLike object, not NoneType\n",
      "Error:expected str, bytes or os.PathLike object, not NoneType\n",
      "Error:expected str, bytes or os.PathLike object, not NoneType\n",
      "Table vw_gameteamresultsdetail: oracle|Rows=7978\n",
      "Error:expected str, bytes or os.PathLike object, not NoneType\n",
      "Error:expected str, bytes or os.PathLike object, not NoneType\n",
      "     leagid  dogml  favml  isdogmlcover  isfavmlcover\n",
      "0         1   -105   -115             1             2\n",
      "58        8   -105   -115             4             9\n",
      "59        8   -105   -110             0             1\n",
      "239      13   -105   -115            23            26\n",
      "1         1    100   -120             6             6\n",
      "Error:expected str, bytes or os.PathLike object, not NoneType\n",
      "Oracle Database Resources Closed.\n",
      "Error:expected str, bytes or os.PathLike object, not NoneType\n",
      "Error:expected str, bytes or os.PathLike object, not NoneType\n",
      "Error:expected str, bytes or os.PathLike object, not NoneType\n",
      "Finished Oracle Processing!\n",
      "Total Time: 0:00:04.969860\n",
      "2025-02-07 09:59:13.082154|Done!\n"
     ]
    }
   ],
   "source": [
    "run()"
   ]
  },
  {
   "cell_type": "markdown",
   "metadata": {},
   "source": [
    "<h2>Appendix</h2>\n",
    "<p>Information not supported in the main notebook</p>"
   ]
  },
  {
   "cell_type": "markdown",
   "metadata": {},
   "source": [
    "<h3>Built-in Color Scales</h3>\n",
    "<p><strong>Popular Color Scales</strong>:</p>\n",
    "<p><i>Sequential</i>:</p>\n",
    "<ul>\n",
    "    <li>Viridis (default in many cases)</li>\n",
    "    <li>Plasma</li>\n",
    "    <li>Inferno</li>\n",
    "    <li>Cividis</li>\n",
    "    <li>YlGnBu</li>\n",
    "    <li>RdBu</li>\n",
    "</ul>\n",
    "<p><i>Diverging</i>:</p>\n",
    "<ul>\n",
    "    <li>RdYlGn</li>\n",
    "    <li>RdYlBu</li>\n",
    "    <li>BrBG</li>\n",
    "</ul>\n",
    "<p><i>Cyclical</i>:</p>\n",
    "<ul>\n",
    "    <li>Phase</li>\n",
    "    <li>HSV</li>\n",
    "    <li>Twilight</li>\n",
    "</ul>\n",
    "<p><i>Reversing a Color Scale</i>:</p>\n",
    "<p>Add _r to the end of the color scale name (e.g., 'Viridis_r')</p>"
   ]
  },
  {
   "cell_type": "code",
   "execution_count": 212,
   "metadata": {},
   "outputs": [],
   "source": [
    "# import plotly.graph_objects as go\n",
    "\n",
    "# # Example data\n",
    "# categories = ['A', 'B', 'C']\n",
    "# values = [12, 18, 30]\n",
    "\n",
    "# # Create a bar chart\n",
    "# fig = go.Figure(data=[go.Bar(x=categories, y=values)])\n",
    "\n",
    "# # By default, Plotly starts at zero, but to enforce or adjust:\n",
    "# fig.update_layout(yaxis_range=[0, max(values) * 1.1])  # Starts at 0, extends a bit beyond the max for clarity\n",
    "\n",
    "# # If you want to start at a different value:\n",
    "# # fig.update_layout(yaxis_range=[10, max(values) * 1.1])  # This would start at 10, not recommended without clear annotation\n",
    "\n",
    "# # Show the chart\n",
    "# fig.show()"
   ]
  },
  {
   "cell_type": "markdown",
   "metadata": {},
   "source": [
    "<h3>SQL</h3>"
   ]
  },
  {
   "cell_type": "code",
   "execution_count": 213,
   "metadata": {},
   "outputs": [],
   "source": [
    "# SELECT vg.dogml,vg.favml,sum(vg.isfavmlcover = 1)\n",
    "# from sch_4ag.vw_gameteamresultsdetail vg\n",
    "# where vg.leagid = 13 and vg.leagyear = 2024\n",
    "# group by vg.dogml,vg.favml\n",
    "# order by vg.dogml;\n",
    "\n",
    "# SELECT vg.favml,vg.dogml,sum(vg.isdogmlcover = 1)\n",
    "# from sch_4ag.vw_gameteamresultsdetail vg\n",
    "# where vg.leagid = 1 and vg.leagyear = 2024\n",
    "# group by vg.favml,vg.dogml\n",
    "# order by vg.favml desc;\n",
    "\n",
    "# SELECT vg.dogml,sum(vg.isfavmlcover = 1)\n",
    "# from sch_4ag.vw_gameteamresultsdetail vg\n",
    "# where vg.leagid = 13 and vg.leagyear = 2024\n",
    "# group by vg.dogml\n",
    "# order by vg.dogml;\n",
    "\n",
    "# SELECT vg.favml,sum(vg.isdogmlcover = 1)\n",
    "# from sch_4ag.vw_gameteamresultsdetail vg\n",
    "# where vg.leagid = 1 and vg.leagyear = 2024\n",
    "# group by vg.favml\n",
    "# order by vg.favml desc;\n",
    "\n",
    "# SELECT vg.dogml,sum(vg.isdogmlcover = 1)\n",
    "# from sch_4ag.vw_gameteamresultsdetail vg\n",
    "# where vg.leagid = 1 and vg.leagyear = 2024\n",
    "# group by vg.dogml\n",
    "# order by vg.dogml;\n",
    "\n",
    "# SELECT vg.favml,sum(vg.isfavmlcover = 1)\n",
    "# from sch_4ag.vw_gameteamresultsdetail vg\n",
    "# where vg.leagid = 1 and vg.leagyear = 2024\n",
    "# group by vg.favml\n",
    "# order by vg.favml desc;\n",
    "\n",
    "# SELECT vg.dogml,vg.favml,sum(vg.isdogmlcover)\n",
    "# from sch_4ag.vw_gameteamresultsdetail vg\n",
    "# where vg.leagid = 13 and vg.leagyear = 2024\n",
    "# group by vg.dogml,vg.favml\n",
    "# order by vg.dogml;\n",
    "\n",
    "# SELECT vg.favml,vg.dogml,sum(vg.isfavmlcover)\n",
    "# from sch_4ag.vw_gameteamresultsdetail vg\n",
    "# where vg.leagid = 13 and vg.leagyear = 2024\n",
    "# group by vg.favml,vg.dogml\n",
    "# order by vg.favml desc;\n",
    "\n",
    "# select count(*)\n",
    "# from sch_4ag.gameresults vg\n",
    "# where (vg.leagid = 13 and vg.leagyear = 2024) and (vg.dogml = 105 and vg.favml = -125);\n",
    "\n",
    "# Two NCAAF Anamolies:\n",
    "# select *\n",
    "# from sch_4ag.vw_gameteamresultsdetail g\n",
    "# where g.leagid=8 and (g.dogml <> g.favml) and g.isfavmlcover = 1 and g.favml between 0 and 20;"
   ]
  }
 ],
 "metadata": {
  "kernelspec": {
   "display_name": "dengsci",
   "language": "python",
   "name": "python3"
  },
  "language_info": {
   "codemirror_mode": {
    "name": "ipython",
    "version": 3
   },
   "file_extension": ".py",
   "mimetype": "text/x-python",
   "name": "python",
   "nbconvert_exporter": "python",
   "pygments_lexer": "ipython3",
   "version": "3.10.14"
  }
 },
 "nbformat": 4,
 "nbformat_minor": 4
}
